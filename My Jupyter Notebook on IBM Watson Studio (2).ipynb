{
 "cells": [
  {
   "cell_type": "markdown",
   "id": "bb662929",
   "metadata": {},
   "source": [
    "# My Jupyter Notebook on IBM Watson Studio\n"
   ]
  },
  {
   "cell_type": "markdown",
   "id": "28c3822b",
   "metadata": {},
   "source": [
    "<b>EL ADRAOUI Ayyoub</b>\n",
    "\n",
    "100% Human\n"
   ]
  },
  {
   "cell_type": "markdown",
   "id": "ec2de553",
   "metadata": {},
   "source": [
    "<i>I am intrested in data science because I want to use it in the finance field that I loved.</i>"
   ]
  },
  {
   "cell_type": "markdown",
   "id": "ba1ccd6b",
   "metadata": {},
   "source": [
    "<h3>This code is the Function for nth Fibonacci number</h3>"
   ]
  },
  {
   "cell_type": "code",
   "execution_count": 1,
   "id": "46f87cec",
   "metadata": {},
   "outputs": [
    {
     "name": "stdout",
     "output_type": "stream",
     "text": [
      "34\n"
     ]
    }
   ],
   "source": [
    "# Function for nth Fibonacci number\n",
    "def Fibonacci(n):\n",
    "   \n",
    "    # Check if input is 0 then it will\n",
    "    # print incorrect input\n",
    "    if n < 0:\n",
    "        print(\"Incorrect input\")\n",
    " \n",
    "    # Check if n is 0\n",
    "    # then it will return 0\n",
    "    elif n == 0:\n",
    "        return 0\n",
    " \n",
    "    # Check if n is 1,2\n",
    "    # it will return 1\n",
    "    elif n == 1 or n == 2:\n",
    "        return 1\n",
    " \n",
    "    else:\n",
    "        return Fibonacci(n-1) + Fibonacci(n-2)\n",
    " \n",
    "# Driver Program\n",
    "print(Fibonacci(9))"
   ]
  },
  {
   "cell_type": "markdown",
   "id": "42e93a3a",
   "metadata": {},
   "source": [
    "1. this\n",
    "2. is\n",
    "3. a\n",
    "    A. numbered\n",
    "    B. list\n",
    "        a. maded\n",
    "4. by\n",
    "    A. me\n",
    "    \n",
    "    "
   ]
  },
  {
   "cell_type": "markdown",
   "id": "98be7bf2",
   "metadata": {},
   "source": []
  },
  {
   "cell_type": "markdown",
   "id": "daf0843a",
   "metadata": {},
   "source": [
    "1. this\n",
    "2. is\n",
    "3. a\n",
    "    1. numbered\n",
    "    2. list\n",
    "        1. maded\n",
    "4. by\n",
    "    1. me\n",
    "    \n",
    "    \n",
    " - this is a bullet\n",
    " - this is a bullet\n",
    "     - this\n",
    "     - is \n",
    "         * a \n",
    "         * bullet\n",
    "      \n",
    "\n",
    "`my jupyter note book` `\n",
    "         \n",
    "www.ibm.com"
   ]
  },
  {
   "cell_type": "code",
   "execution_count": null,
   "id": "66d4a38c",
   "metadata": {},
   "outputs": [],
   "source": []
  }
 ],
 "metadata": {
  "kernelspec": {
   "display_name": "Python 3 (ipykernel)",
   "language": "python",
   "name": "python3"
  },
  "language_info": {
   "codemirror_mode": {
    "name": "ipython",
    "version": 3
   },
   "file_extension": ".py",
   "mimetype": "text/x-python",
   "name": "python",
   "nbconvert_exporter": "python",
   "pygments_lexer": "ipython3",
   "version": "3.9.13"
  },
  "widgets": {
   "application/vnd.jupyter.widget-state+json": {
    "state": {},
    "version_major": 2,
    "version_minor": 0
   }
  }
 },
 "nbformat": 4,
 "nbformat_minor": 5
}
